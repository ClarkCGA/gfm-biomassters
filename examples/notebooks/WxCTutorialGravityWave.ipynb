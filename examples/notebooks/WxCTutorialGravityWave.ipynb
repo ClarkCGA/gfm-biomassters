{
 "cells": [
  {
   "cell_type": "markdown",
   "metadata": {},
   "source": [
    "# Prithvi WxC Gravity Wave: Model Fine Tuning and Inference using TerraTorch"
   ]
  },
  {
   "cell_type": "code",
   "metadata": {},
   "source": "!pip install -U -e ../../\n",
   "outputs": [],
   "execution_count": null
  },
  {
   "cell_type": "code",
   "metadata": {},
   "source": "!pip install -U albumentations # fix until https://github.com/IBM/terratorch/issues/164 is solved",
   "outputs": [],
   "execution_count": null
  },
  {
   "cell_type": "code",
   "metadata": {},
   "source": [
    "!pip install -U git+https://github.com/romeokienzler/gravity-wave-finetuning.git\n"
   ],
   "outputs": [],
   "execution_count": null
  },
  {
   "cell_type": "code",
   "metadata": {},
   "source": [
    "!pip install huggingface_hub"
   ],
   "outputs": [],
   "execution_count": null
  },
  {
   "cell_type": "code",
   "metadata": {},
   "source": [
    "import terratorch # this import is needed to initialize TT's factories\n",
    "from lightning.pytorch import Trainer\n",
    "import os\n",
    "import torch\n",
    "from huggingface_hub import hf_hub_download, snapshot_download\n",
    "from terratorch.models.wxc_model_factory import WxCModelFactory\n",
    "import torch.distributed as dist"
   ],
   "outputs": [],
   "execution_count": null
  },
  {
   "cell_type": "code",
   "metadata": {},
   "source": [
    "os.environ['MASTER_ADDR'] = 'localhost'\n",
    "os.environ['MASTER_PORT'] = '12355' \n",
    "\n",
    "if dist.is_initialized():\n",
    "    dist.destroy_process_group()\n",
    "\n",
    "dist.init_process_group(\n",
    "    backend='gloo',\n",
    "    init_method='env://', \n",
    "    rank=0,\n",
    "    world_size=1\n",
    ")"
   ],
   "outputs": [],
   "execution_count": null
  },
  {
   "cell_type": "code",
   "metadata": {},
   "source": [
    "hf_hub_download(\n",
    "    repo_id=\"Prithvi-WxC/Gravity_wave_Parameterization\",\n",
    "    filename=f\"magnet-flux-uvtp122-epoch-99-loss-0.1022.pt\",\n",
    "    local_dir=\".\",\n",
    ")\n",
    "\n",
    "hf_hub_download(\n",
    "    repo_id=\"Prithvi-WxC/Gravity_wave_Parameterization\",\n",
    "    filename=f\"config.yaml\",\n",
    "    local_dir=\".\",\n",
    ")"
   ],
   "outputs": [],
   "execution_count": null
  },
  {
   "cell_type": "code",
   "metadata": {},
   "source": [
    "hf_hub_download(\n",
    "    repo_id=\"Prithvi-WxC/Gravity_wave_Parameterization\",\n",
    "    repo_type='dataset',\n",
    "    filename=f\"wxc_input_u_v_t_p_output_theta_uw_vw_era5_training_data_hourly_2015_constant_mu_sigma_scaling05.nc\",\n",
    "    local_dir=\".\",\n",
    ")"
   ],
   "outputs": [],
   "execution_count": null
  },
  {
   "cell_type": "code",
   "metadata": {
    "jupyter": {
     "is_executing": true
    }
   },
   "source": [
    "from prithviwxc.gravitywave.datamodule import ERA5DataModule\n",
    "from terratorch.tasks.wxc_gravity_wave_task import WxCGravityWaveTask\n",
    "task = WxCGravityWaveTask(WxCModelFactory(),mode='eval')"
   ],
   "outputs": [],
   "execution_count": null
  },
  {
   "cell_type": "code",
   "metadata": {},
   "source": [
    "trainer = Trainer(\n",
    "    max_epochs=1,\n",
    ")\n",
    "dm = ERA5DataModule(train_data_path='.', valid_data_path='.')\n",
    "type(dm)"
   ],
   "outputs": [],
   "execution_count": null
  },
  {
   "cell_type": "code",
   "metadata": {},
   "source": "results = trainer.predict(model=task, datamodule=dm, return_predictions=True)",
   "outputs": [],
   "execution_count": null
  },
  {
   "metadata": {},
   "cell_type": "code",
   "source": "task = WxCGravityWaveTask(WxCModelFactory(),mode='train')",
   "outputs": [],
   "execution_count": null
  },
  {
   "metadata": {},
   "cell_type": "code",
   "source": "results = trainer.fit(model=task, datamodule=dm)",
   "outputs": [],
   "execution_count": null
  },
  {
   "cell_type": "code",
   "metadata": {},
   "source": [
    "dist.destroy_process_group()"
   ],
   "outputs": [],
   "execution_count": null
  }
 ],
 "metadata": {
  "kernelspec": {
   "display_name": ".venv",
   "language": "python",
   "name": "python3"
  },
  "language_info": {
   "codemirror_mode": {
    "name": "ipython",
    "version": 3
   },
   "file_extension": ".py",
   "mimetype": "text/x-python",
   "name": "python",
   "nbconvert_exporter": "python",
   "pygments_lexer": "ipython3",
   "version": "3.12.7"
  }
 },
 "nbformat": 4,
 "nbformat_minor": 4
}
