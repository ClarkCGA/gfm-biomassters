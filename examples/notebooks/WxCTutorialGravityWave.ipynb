{
 "cells": [
  {
   "cell_type": "markdown",
   "metadata": {},
   "source": [
    "# Prithvi WxC Gravity Wave: Model Fine Tuning and Inference using TerraTorch"
   ]
  },
  {
   "cell_type": "code",
   "metadata": {},
   "source": "!pip install -U -e ../../\n",
   "outputs": [],
   "execution_count": null
  },
  {
   "cell_type": "code",
   "metadata": {},
   "source": "!pip install -U albumentations # fix until https://github.com/IBM/terratorch/issues/164 is solved",
   "outputs": [],
   "execution_count": null
  },
  {
   "cell_type": "code",
   "metadata": {},
   "source": [
    "!pip install -U git+https://github.com/romeokienzler/gravity-wave-finetuning.git\n"
   ],
   "outputs": [],
   "execution_count": null
  },
  {
   "cell_type": "code",
   "metadata": {},
   "source": [
    "!pip install huggingface_hub"
   ],
   "outputs": [],
   "execution_count": null
  },
  {
   "cell_type": "code",
   "metadata": {},
   "source": [
    "import terratorch # this import is needed to initialize TT's factories\n",
    "from lightning.pytorch import Trainer\n",
    "import os\n",
    "import torch\n",
    "from huggingface_hub import hf_hub_download, snapshot_download\n",
    "from terratorch.models.wxc_model_factory import WxCModelFactory\n",
    "import torch.distributed as dist"
   ],
   "outputs": [],
   "execution_count": null
  },
  {
   "cell_type": "code",
   "metadata": {},
   "source": [
    "os.environ['MASTER_ADDR'] = 'localhost'\n",
    "os.environ['MASTER_PORT'] = '12355' \n",
    "\n",
    "if dist.is_initialized():\n",
    "    dist.destroy_process_group()\n",
    "\n",
    "dist.init_process_group(\n",
    "    backend='gloo',\n",
    "    init_method='env://', \n",
    "    rank=0,\n",
    "    world_size=1\n",
    ")"
   ],
   "outputs": [],
   "execution_count": null
  },
  {
   "cell_type": "code",
   "metadata": {},
   "source": [
    "hf_hub_download(\n",
    "    repo_id=\"Prithvi-WxC/Gravity_wave_Parameterization\",\n",
    "    filename=f\"magnet-flux-uvtp122-epoch-99-loss-0.1022.pt\",\n",
    "    local_dir=\".\",\n",
    ")\n",
    "\n",
    "hf_hub_download(\n",
    "    repo_id=\"Prithvi-WxC/Gravity_wave_Parameterization\",\n",
    "    filename=f\"config.yaml\",\n",
    "    local_dir=\".\",\n",
    ")"
   ],
   "outputs": [],
   "execution_count": null
  },
  {
   "cell_type": "code",
   "metadata": {},
   "source": [
    "hf_hub_download(\n",
    "    repo_id=\"Prithvi-WxC/Gravity_wave_Parameterization\",\n",
    "    repo_type='dataset',\n",
    "    filename=f\"wxc_input_u_v_t_p_output_theta_uw_vw_era5_training_data_hourly_2015_constant_mu_sigma_scaling05.nc\",\n",
    "    local_dir=\".\",\n",
    ")"
   ],
   "outputs": [],
   "execution_count": null
  },
  {
   "cell_type": "code",
   "metadata": {},
   "source": [
    "from prithviwxc.gravitywave.datamodule import ERA5DataModule\n",
    "from terratorch.tasks.wxc_gravity_wave_task import WxCGravityWaveTask\n",
    "\n",
    "model_args = {\n",
    "    \"in_channels\": 1280,\n",
    "    \"input_size_time\": 1,\n",
    "    \"n_lats_px\": 64,\n",
    "    \"n_lons_px\": 128,\n",
    "    \"patch_size_px\": [2, 2],\n",
    "    \"mask_unit_size_px\": [8, 16],\n",
    "    \"mask_ratio_inputs\": 0.5,\n",
    "    \"embed_dim\": 2560,\n",
    "    \"n_blocks_encoder\": 12,\n",
    "    \"n_blocks_decoder\": 2,\n",
    "    \"mlp_multiplier\": 4,\n",
    "    \"n_heads\": 16,\n",
    "    \"dropout\": 0.0,\n",
    "    \"drop_path\": 0.05,\n",
    "    \"parameter_dropout\": 0.0,\n",
    "    \"residual\": \"none\",\n",
    "    \"masking_mode\": \"both\",\n",
    "    \"decoder_shifting\": False,\n",
    "    \"positional_encoding\": \"absolute\",\n",
    "    \"checkpoint_encoder\": [3, 6, 9, 12, 15, 18, 21, 24],\n",
    "    \"checkpoint_decoder\": [1, 3],\n",
    "    \"in_channels_static\": 3,\n",
    "    \"input_scalers_mu\": torch.tensor([0] * 1280),\n",
    "    \"input_scalers_sigma\": torch.tensor([1] * 1280),\n",
    "    \"input_scalers_epsilon\": 0,\n",
    "    \"static_input_scalers_mu\": torch.tensor([0] * 3),\n",
    "    \"static_input_scalers_sigma\": torch.tensor([1] * 3),\n",
    "    \"static_input_scalers_epsilon\": 0,\n",
    "    \"output_scalers\": torch.tensor([0] * 1280),\n",
    "}\n",
    "task = WxCGravityWaveTask(WxCModelFactory(), model_args=model_args, mode='eval')"
   ],
   "outputs": [],
   "execution_count": null
  },
  {
   "cell_type": "code",
   "metadata": {},
   "source": [
    "trainer = Trainer(\n",
    "    max_epochs=1,\n",
    ")\n",
    "dm = ERA5DataModule(train_data_path='.', valid_data_path='.')\n",
    "type(dm)"
   ],
   "outputs": [],
   "execution_count": null
  },
  {
   "cell_type": "code",
   "metadata": {},
   "source": "results = trainer.predict(model=task, datamodule=dm, return_predictions=True)",
   "outputs": [],
   "execution_count": null
  },
  {
   "metadata": {},
   "cell_type": "code",
   "source": "task = WxCGravityWaveTask(WxCModelFactory(),mode='train')",
   "outputs": [],
   "execution_count": null
  },
  {
   "metadata": {},
   "cell_type": "code",
   "source": "results = trainer.fit(model=task, datamodule=dm)",
   "outputs": [],
   "execution_count": null
  },
  {
   "cell_type": "code",
   "metadata": {},
   "source": [
    "dist.destroy_process_group()"
   ],
   "outputs": [],
   "execution_count": null
  }
 ],
 "metadata": {
  "kernelspec": {
   "display_name": ".venv",
   "language": "python",
   "name": "python3"
  },
  "language_info": {
   "codemirror_mode": {
    "name": "ipython",
    "version": 3
   },
   "file_extension": ".py",
   "mimetype": "text/x-python",
   "name": "python",
   "nbconvert_exporter": "python",
   "pygments_lexer": "ipython3",
   "version": "3.12.7"
  }
 },
 "nbformat": 4,
 "nbformat_minor": 4
}
