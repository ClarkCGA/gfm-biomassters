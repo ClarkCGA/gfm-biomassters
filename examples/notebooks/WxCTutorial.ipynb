{
 "cells": [
  {
   "cell_type": "markdown",
   "metadata": {},
   "source": [
    "# Prithvi WxC Downscaling: Model Inference using TerraTorch\n",
    "This notebook is a walk through to use a finetuned downscaling model to generate inferences using TerraTorch. We show how to initalize the model, load weights, and use the model for inference using TerraTorch.\n",
    "\n",
    "Note to set up your environment by running the following cells. (We recommend to run this notebook in an empty pyton 3.11 environment)  \n",
    "(e.g.,   \n",
    "python3.11 -m venv .venv  \n",
    "source .venv/bin/activate  \n",
    ")  "
   ]
  },
  {
   "cell_type": "code",
   "execution_count": 12,
   "metadata": {},
   "outputs": [
    {
     "name": "stdout",
     "output_type": "stream",
     "text": [
      "Processing /home/romeokienzler/gitco/terratorch\n",
      "  Installing build dependencies ... \u001b[?25ldone\n",
      "\u001b[?25h  Getting requirements to build wheel ... \u001b[?25ldone\n",
      "\u001b[?25h  Preparing metadata (pyproject.toml) ... \u001b[?25ldone\n",
      "\u001b[?25hRequirement already satisfied: torch>=2.1.0 in /home/romeokienzler/gitco/terratorch/.venv/lib64/python3.11/site-packages (from terratorch==0.99.3) (2.4.1)\n",
      "Requirement already satisfied: torchvision>=0.16.0 in /home/romeokienzler/gitco/terratorch/.venv/lib64/python3.11/site-packages (from terratorch==0.99.3) (0.19.1)\n",
      "Requirement already satisfied: torchgeo>=0.6.0 in /home/romeokienzler/gitco/terratorch/.venv/lib64/python3.11/site-packages (from terratorch==0.99.3) (0.6.0)\n",
      "Requirement already satisfied: rioxarray>=0.15.0 in /home/romeokienzler/gitco/terratorch/.venv/lib64/python3.11/site-packages (from terratorch==0.99.3) (0.17.0)\n",
      "Collecting albumentations<=1.4.10,>=1.3.1 (from terratorch==0.99.3)\n",
      "  Using cached albumentations-1.4.10-py3-none-any.whl.metadata (38 kB)\n",
      "Requirement already satisfied: rasterio>=1.3.9 in /home/romeokienzler/gitco/terratorch/.venv/lib64/python3.11/site-packages (from terratorch==0.99.3) (1.3.11)\n",
      "Requirement already satisfied: torchmetrics<=1.3.1 in /home/romeokienzler/gitco/terratorch/.venv/lib64/python3.11/site-packages (from terratorch==0.99.3) (1.3.1)\n",
      "Requirement already satisfied: geopandas>=0.14.2 in /home/romeokienzler/gitco/terratorch/.venv/lib64/python3.11/site-packages (from terratorch==0.99.3) (1.0.1)\n",
      "Requirement already satisfied: lightly>=1.4.25 in /home/romeokienzler/gitco/terratorch/.venv/lib64/python3.11/site-packages (from terratorch==0.99.3) (1.5.12)\n",
      "Requirement already satisfied: h5py>=3.10.0 in /home/romeokienzler/gitco/terratorch/.venv/lib64/python3.11/site-packages (from terratorch==0.99.3) (3.10.0)\n",
      "Requirement already satisfied: geobench>=1.0.0 in /home/romeokienzler/gitco/terratorch/.venv/lib64/python3.11/site-packages (from terratorch==0.99.3) (1.0.0)\n",
      "Requirement already satisfied: mlflow>=2.12.1 in /home/romeokienzler/gitco/terratorch/.venv/lib64/python3.11/site-packages (from terratorch==0.99.3) (2.16.2)\n",
      "Requirement already satisfied: lightning<=2.2.5,>=2 in /home/romeokienzler/gitco/terratorch/.venv/lib64/python3.11/site-packages (from terratorch==0.99.3) (2.2.5)\n",
      "Requirement already satisfied: numpy<2,>=1.24.4 in /home/romeokienzler/gitco/terratorch/.venv/lib64/python3.11/site-packages (from albumentations<=1.4.10,>=1.3.1->terratorch==0.99.3) (1.26.4)\n",
      "Requirement already satisfied: scipy>=1.10.0 in /home/romeokienzler/gitco/terratorch/.venv/lib64/python3.11/site-packages (from albumentations<=1.4.10,>=1.3.1->terratorch==0.99.3) (1.14.1)\n",
      "Requirement already satisfied: scikit-image>=0.21.0 in /home/romeokienzler/gitco/terratorch/.venv/lib64/python3.11/site-packages (from albumentations<=1.4.10,>=1.3.1->terratorch==0.99.3) (0.24.0)\n",
      "Requirement already satisfied: PyYAML in /home/romeokienzler/gitco/terratorch/.venv/lib64/python3.11/site-packages (from albumentations<=1.4.10,>=1.3.1->terratorch==0.99.3) (6.0.2)\n",
      "Requirement already satisfied: typing-extensions>=4.9.0 in /home/romeokienzler/gitco/terratorch/.venv/lib64/python3.11/site-packages (from albumentations<=1.4.10,>=1.3.1->terratorch==0.99.3) (4.12.2)\n",
      "Requirement already satisfied: scikit-learn>=1.3.2 in /home/romeokienzler/gitco/terratorch/.venv/lib64/python3.11/site-packages (from albumentations<=1.4.10,>=1.3.1->terratorch==0.99.3) (1.5.2)\n",
      "Requirement already satisfied: pydantic>=2.7.0 in /home/romeokienzler/gitco/terratorch/.venv/lib64/python3.11/site-packages (from albumentations<=1.4.10,>=1.3.1->terratorch==0.99.3) (2.9.2)\n",
      "Requirement already satisfied: albucore>=0.0.11 in /home/romeokienzler/gitco/terratorch/.venv/lib64/python3.11/site-packages (from albumentations<=1.4.10,>=1.3.1->terratorch==0.99.3) (0.0.17)\n",
      "Requirement already satisfied: opencv-python-headless>=4.9.0.80 in /home/romeokienzler/gitco/terratorch/.venv/lib64/python3.11/site-packages (from albumentations<=1.4.10,>=1.3.1->terratorch==0.99.3) (4.10.0.84)\n",
      "Requirement already satisfied: huggingface_hub<0.20.0,>=0.19.3 in /home/romeokienzler/gitco/terratorch/.venv/lib64/python3.11/site-packages (from geobench>=1.0.0->terratorch==0.99.3) (0.19.4)\n",
      "Collecting pandas<2.0.0,>=1.5.3 (from geobench>=1.0.0->terratorch==0.99.3)\n",
      "  Using cached pandas-1.5.3-cp311-cp311-manylinux_2_17_x86_64.manylinux2014_x86_64.whl.metadata (11 kB)\n",
      "Requirement already satisfied: requests<3.0.0,>=2.26.0 in /home/romeokienzler/gitco/terratorch/.venv/lib64/python3.11/site-packages (from geobench>=1.0.0->terratorch==0.99.3) (2.32.3)\n",
      "Requirement already satisfied: seaborn<0.13.0,>=0.12.2 in /home/romeokienzler/gitco/terratorch/.venv/lib64/python3.11/site-packages (from geobench>=1.0.0->terratorch==0.99.3) (0.12.2)\n",
      "Requirement already satisfied: tqdm<5.0.0,>=4.65.0 in /home/romeokienzler/gitco/terratorch/.venv/lib64/python3.11/site-packages (from geobench>=1.0.0->terratorch==0.99.3) (4.66.5)\n",
      "Requirement already satisfied: pyogrio>=0.7.2 in /home/romeokienzler/gitco/terratorch/.venv/lib64/python3.11/site-packages (from geopandas>=0.14.2->terratorch==0.99.3) (0.9.0)\n",
      "Requirement already satisfied: packaging in /home/romeokienzler/gitco/terratorch/.venv/lib64/python3.11/site-packages (from geopandas>=0.14.2->terratorch==0.99.3) (24.1)\n",
      "Requirement already satisfied: pyproj>=3.3.0 in /home/romeokienzler/gitco/terratorch/.venv/lib64/python3.11/site-packages (from geopandas>=0.14.2->terratorch==0.99.3) (3.6.1)\n",
      "Requirement already satisfied: shapely>=2.0.0 in /home/romeokienzler/gitco/terratorch/.venv/lib64/python3.11/site-packages (from geopandas>=0.14.2->terratorch==0.99.3) (2.0.6)\n",
      "Requirement already satisfied: certifi>=14.05.14 in /home/romeokienzler/gitco/terratorch/.venv/lib64/python3.11/site-packages (from lightly>=1.4.25->terratorch==0.99.3) (2024.8.30)\n",
      "Requirement already satisfied: hydra-core>=1.0.0 in /home/romeokienzler/gitco/terratorch/.venv/lib64/python3.11/site-packages (from lightly>=1.4.25->terratorch==0.99.3) (1.3.2)\n",
      "Requirement already satisfied: lightly-utils~=0.0.0 in /home/romeokienzler/gitco/terratorch/.venv/lib64/python3.11/site-packages (from lightly>=1.4.25->terratorch==0.99.3) (0.0.2)\n",
      "Requirement already satisfied: python-dateutil>=2.5.3 in /home/romeokienzler/gitco/terratorch/.venv/lib64/python3.11/site-packages (from lightly>=1.4.25->terratorch==0.99.3) (2.9.0.post0)\n",
      "Requirement already satisfied: six>=1.10 in /home/romeokienzler/gitco/terratorch/.venv/lib64/python3.11/site-packages (from lightly>=1.4.25->terratorch==0.99.3) (1.16.0)\n",
      "Requirement already satisfied: pytorch-lightning>=1.0.4 in /home/romeokienzler/gitco/terratorch/.venv/lib64/python3.11/site-packages (from lightly>=1.4.25->terratorch==0.99.3) (2.4.0)\n",
      "Requirement already satisfied: urllib3>=1.25.3 in /home/romeokienzler/gitco/terratorch/.venv/lib64/python3.11/site-packages (from lightly>=1.4.25->terratorch==0.99.3) (2.2.3)\n",
      "Requirement already satisfied: aenum>=3.1.11 in /home/romeokienzler/gitco/terratorch/.venv/lib64/python3.11/site-packages (from lightly>=1.4.25->terratorch==0.99.3) (3.1.15)\n",
      "Requirement already satisfied: fsspec<2025.0,>=2022.5.0 in /home/romeokienzler/gitco/terratorch/.venv/lib64/python3.11/site-packages (from fsspec[http]<2025.0,>=2022.5.0->lightning<=2.2.5,>=2->terratorch==0.99.3) (2024.9.0)\n",
      "Requirement already satisfied: lightning-utilities<2.0,>=0.8.0 in /home/romeokienzler/gitco/terratorch/.venv/lib64/python3.11/site-packages (from lightning<=2.2.5,>=2->terratorch==0.99.3) (0.11.7)\n",
      "Requirement already satisfied: mlflow-skinny==2.16.2 in /home/romeokienzler/gitco/terratorch/.venv/lib64/python3.11/site-packages (from mlflow>=2.12.1->terratorch==0.99.3) (2.16.2)\n",
      "Requirement already satisfied: Flask<4 in /home/romeokienzler/gitco/terratorch/.venv/lib64/python3.11/site-packages (from mlflow>=2.12.1->terratorch==0.99.3) (3.0.3)\n",
      "Requirement already satisfied: alembic!=1.10.0,<2 in /home/romeokienzler/gitco/terratorch/.venv/lib64/python3.11/site-packages (from mlflow>=2.12.1->terratorch==0.99.3) (1.13.2)\n",
      "Requirement already satisfied: docker<8,>=4.0.0 in /home/romeokienzler/gitco/terratorch/.venv/lib64/python3.11/site-packages (from mlflow>=2.12.1->terratorch==0.99.3) (7.1.0)\n",
      "Requirement already satisfied: graphene<4 in /home/romeokienzler/gitco/terratorch/.venv/lib64/python3.11/site-packages (from mlflow>=2.12.1->terratorch==0.99.3) (3.3)\n",
      "Requirement already satisfied: markdown<4,>=3.3 in /home/romeokienzler/gitco/terratorch/.venv/lib64/python3.11/site-packages (from mlflow>=2.12.1->terratorch==0.99.3) (3.7)\n",
      "Requirement already satisfied: matplotlib<4 in /home/romeokienzler/gitco/terratorch/.venv/lib64/python3.11/site-packages (from mlflow>=2.12.1->terratorch==0.99.3) (3.9.2)\n",
      "Requirement already satisfied: pyarrow<18,>=4.0.0 in /home/romeokienzler/gitco/terratorch/.venv/lib64/python3.11/site-packages (from mlflow>=2.12.1->terratorch==0.99.3) (17.0.0)\n",
      "Requirement already satisfied: sqlalchemy<3,>=1.4.0 in /home/romeokienzler/gitco/terratorch/.venv/lib64/python3.11/site-packages (from mlflow>=2.12.1->terratorch==0.99.3) (2.0.35)\n",
      "Requirement already satisfied: Jinja2<4,>=2.11 in /home/romeokienzler/gitco/terratorch/.venv/lib64/python3.11/site-packages (from mlflow>=2.12.1->terratorch==0.99.3) (3.1.4)\n",
      "Requirement already satisfied: gunicorn<24 in /home/romeokienzler/gitco/terratorch/.venv/lib64/python3.11/site-packages (from mlflow>=2.12.1->terratorch==0.99.3) (23.0.0)\n",
      "Requirement already satisfied: cachetools<6,>=5.0.0 in /home/romeokienzler/gitco/terratorch/.venv/lib64/python3.11/site-packages (from mlflow-skinny==2.16.2->mlflow>=2.12.1->terratorch==0.99.3) (5.5.0)\n",
      "Requirement already satisfied: click<9,>=7.0 in /home/romeokienzler/gitco/terratorch/.venv/lib64/python3.11/site-packages (from mlflow-skinny==2.16.2->mlflow>=2.12.1->terratorch==0.99.3) (8.1.7)\n",
      "Requirement already satisfied: cloudpickle<4 in /home/romeokienzler/gitco/terratorch/.venv/lib64/python3.11/site-packages (from mlflow-skinny==2.16.2->mlflow>=2.12.1->terratorch==0.99.3) (3.0.0)\n",
      "Requirement already satisfied: databricks-sdk<1,>=0.20.0 in /home/romeokienzler/gitco/terratorch/.venv/lib64/python3.11/site-packages (from mlflow-skinny==2.16.2->mlflow>=2.12.1->terratorch==0.99.3) (0.32.3)\n",
      "Requirement already satisfied: gitpython<4,>=3.1.9 in /home/romeokienzler/gitco/terratorch/.venv/lib64/python3.11/site-packages (from mlflow-skinny==2.16.2->mlflow>=2.12.1->terratorch==0.99.3) (3.1.43)\n",
      "Requirement already satisfied: importlib-metadata!=4.7.0,<9,>=3.7.0 in /home/romeokienzler/gitco/terratorch/.venv/lib64/python3.11/site-packages (from mlflow-skinny==2.16.2->mlflow>=2.12.1->terratorch==0.99.3) (8.4.0)\n",
      "Requirement already satisfied: opentelemetry-api<3,>=1.9.0 in /home/romeokienzler/gitco/terratorch/.venv/lib64/python3.11/site-packages (from mlflow-skinny==2.16.2->mlflow>=2.12.1->terratorch==0.99.3) (1.27.0)\n",
      "Requirement already satisfied: opentelemetry-sdk<3,>=1.9.0 in /home/romeokienzler/gitco/terratorch/.venv/lib64/python3.11/site-packages (from mlflow-skinny==2.16.2->mlflow>=2.12.1->terratorch==0.99.3) (1.27.0)\n",
      "Requirement already satisfied: protobuf<6,>=3.12.0 in /home/romeokienzler/gitco/terratorch/.venv/lib64/python3.11/site-packages (from mlflow-skinny==2.16.2->mlflow>=2.12.1->terratorch==0.99.3) (5.28.2)\n",
      "Requirement already satisfied: sqlparse<1,>=0.4.0 in /home/romeokienzler/gitco/terratorch/.venv/lib64/python3.11/site-packages (from mlflow-skinny==2.16.2->mlflow>=2.12.1->terratorch==0.99.3) (0.5.1)\n",
      "Requirement already satisfied: affine in /home/romeokienzler/gitco/terratorch/.venv/lib64/python3.11/site-packages (from rasterio>=1.3.9->terratorch==0.99.3) (2.4.0)\n",
      "Requirement already satisfied: attrs in /home/romeokienzler/gitco/terratorch/.venv/lib64/python3.11/site-packages (from rasterio>=1.3.9->terratorch==0.99.3) (24.2.0)\n",
      "Requirement already satisfied: cligj>=0.5 in /home/romeokienzler/gitco/terratorch/.venv/lib64/python3.11/site-packages (from rasterio>=1.3.9->terratorch==0.99.3) (0.7.2)\n",
      "Requirement already satisfied: snuggs>=1.4.1 in /home/romeokienzler/gitco/terratorch/.venv/lib64/python3.11/site-packages (from rasterio>=1.3.9->terratorch==0.99.3) (1.4.7)\n",
      "Requirement already satisfied: click-plugins in /home/romeokienzler/gitco/terratorch/.venv/lib64/python3.11/site-packages (from rasterio>=1.3.9->terratorch==0.99.3) (1.1.1)\n",
      "Requirement already satisfied: setuptools in /home/romeokienzler/gitco/terratorch/.venv/lib64/python3.11/site-packages (from rasterio>=1.3.9->terratorch==0.99.3) (75.1.0)\n",
      "Requirement already satisfied: xarray>=2022.3.0 in /home/romeokienzler/gitco/terratorch/.venv/lib64/python3.11/site-packages (from rioxarray>=0.15.0->terratorch==0.99.3) (2024.9.0)\n",
      "Requirement already satisfied: filelock in /home/romeokienzler/gitco/terratorch/.venv/lib64/python3.11/site-packages (from torch>=2.1.0->terratorch==0.99.3) (3.16.1)\n",
      "Requirement already satisfied: sympy in /home/romeokienzler/gitco/terratorch/.venv/lib64/python3.11/site-packages (from torch>=2.1.0->terratorch==0.99.3) (1.13.3)\n",
      "Requirement already satisfied: networkx in /home/romeokienzler/gitco/terratorch/.venv/lib64/python3.11/site-packages (from torch>=2.1.0->terratorch==0.99.3) (3.3)\n",
      "Requirement already satisfied: nvidia-cuda-nvrtc-cu12==12.1.105 in /home/romeokienzler/gitco/terratorch/.venv/lib64/python3.11/site-packages (from torch>=2.1.0->terratorch==0.99.3) (12.1.105)\n",
      "Requirement already satisfied: nvidia-cuda-runtime-cu12==12.1.105 in /home/romeokienzler/gitco/terratorch/.venv/lib64/python3.11/site-packages (from torch>=2.1.0->terratorch==0.99.3) (12.1.105)\n",
      "Requirement already satisfied: nvidia-cuda-cupti-cu12==12.1.105 in /home/romeokienzler/gitco/terratorch/.venv/lib64/python3.11/site-packages (from torch>=2.1.0->terratorch==0.99.3) (12.1.105)\n",
      "Requirement already satisfied: nvidia-cudnn-cu12==9.1.0.70 in /home/romeokienzler/gitco/terratorch/.venv/lib64/python3.11/site-packages (from torch>=2.1.0->terratorch==0.99.3) (9.1.0.70)\n",
      "Requirement already satisfied: nvidia-cublas-cu12==12.1.3.1 in /home/romeokienzler/gitco/terratorch/.venv/lib64/python3.11/site-packages (from torch>=2.1.0->terratorch==0.99.3) (12.1.3.1)\n",
      "Requirement already satisfied: nvidia-cufft-cu12==11.0.2.54 in /home/romeokienzler/gitco/terratorch/.venv/lib64/python3.11/site-packages (from torch>=2.1.0->terratorch==0.99.3) (11.0.2.54)\n",
      "Requirement already satisfied: nvidia-curand-cu12==10.3.2.106 in /home/romeokienzler/gitco/terratorch/.venv/lib64/python3.11/site-packages (from torch>=2.1.0->terratorch==0.99.3) (10.3.2.106)\n",
      "Requirement already satisfied: nvidia-cusolver-cu12==11.4.5.107 in /home/romeokienzler/gitco/terratorch/.venv/lib64/python3.11/site-packages (from torch>=2.1.0->terratorch==0.99.3) (11.4.5.107)\n",
      "Requirement already satisfied: nvidia-cusparse-cu12==12.1.0.106 in /home/romeokienzler/gitco/terratorch/.venv/lib64/python3.11/site-packages (from torch>=2.1.0->terratorch==0.99.3) (12.1.0.106)\n",
      "Requirement already satisfied: nvidia-nccl-cu12==2.20.5 in /home/romeokienzler/gitco/terratorch/.venv/lib64/python3.11/site-packages (from torch>=2.1.0->terratorch==0.99.3) (2.20.5)\n",
      "Requirement already satisfied: nvidia-nvtx-cu12==12.1.105 in /home/romeokienzler/gitco/terratorch/.venv/lib64/python3.11/site-packages (from torch>=2.1.0->terratorch==0.99.3) (12.1.105)\n",
      "Requirement already satisfied: triton==3.0.0 in /home/romeokienzler/gitco/terratorch/.venv/lib64/python3.11/site-packages (from torch>=2.1.0->terratorch==0.99.3) (3.0.0)\n",
      "Requirement already satisfied: nvidia-nvjitlink-cu12 in /home/romeokienzler/gitco/terratorch/.venv/lib64/python3.11/site-packages (from nvidia-cusolver-cu12==11.4.5.107->torch>=2.1.0->terratorch==0.99.3) (12.6.68)\n",
      "Requirement already satisfied: einops>=0.3 in /home/romeokienzler/gitco/terratorch/.venv/lib64/python3.11/site-packages (from torchgeo>=0.6.0->terratorch==0.99.3) (0.8.0)\n",
      "Requirement already satisfied: fiona>=1.8.21 in /home/romeokienzler/gitco/terratorch/.venv/lib64/python3.11/site-packages (from torchgeo>=0.6.0->terratorch==0.99.3) (1.10.1)\n",
      "Requirement already satisfied: kornia>=0.7.3 in /home/romeokienzler/gitco/terratorch/.venv/lib64/python3.11/site-packages (from torchgeo>=0.6.0->terratorch==0.99.3) (0.7.3)\n",
      "Requirement already satisfied: pillow>=8.4 in /home/romeokienzler/gitco/terratorch/.venv/lib64/python3.11/site-packages (from torchgeo>=0.6.0->terratorch==0.99.3) (10.4.0)\n",
      "Requirement already satisfied: rtree>=1 in /home/romeokienzler/gitco/terratorch/.venv/lib64/python3.11/site-packages (from torchgeo>=0.6.0->terratorch==0.99.3) (1.3.0)\n",
      "Requirement already satisfied: segmentation-models-pytorch>=0.2 in /home/romeokienzler/gitco/terratorch/.venv/lib64/python3.11/site-packages (from torchgeo>=0.6.0->terratorch==0.99.3) (0.3.3)\n",
      "Requirement already satisfied: timm>=0.4.12 in /home/romeokienzler/gitco/terratorch/.venv/lib64/python3.11/site-packages (from torchgeo>=0.6.0->terratorch==0.99.3) (0.9.2)\n",
      "Requirement already satisfied: Mako in /home/romeokienzler/gitco/terratorch/.venv/lib64/python3.11/site-packages (from alembic!=1.10.0,<2->mlflow>=2.12.1->terratorch==0.99.3) (1.3.5)\n",
      "Requirement already satisfied: Werkzeug>=3.0.0 in /home/romeokienzler/gitco/terratorch/.venv/lib64/python3.11/site-packages (from Flask<4->mlflow>=2.12.1->terratorch==0.99.3) (3.0.4)\n",
      "Requirement already satisfied: itsdangerous>=2.1.2 in /home/romeokienzler/gitco/terratorch/.venv/lib64/python3.11/site-packages (from Flask<4->mlflow>=2.12.1->terratorch==0.99.3) (2.2.0)\n",
      "Requirement already satisfied: blinker>=1.6.2 in /home/romeokienzler/gitco/terratorch/.venv/lib64/python3.11/site-packages (from Flask<4->mlflow>=2.12.1->terratorch==0.99.3) (1.8.2)\n",
      "Requirement already satisfied: aiohttp!=4.0.0a0,!=4.0.0a1 in /home/romeokienzler/gitco/terratorch/.venv/lib64/python3.11/site-packages (from fsspec[http]<2025.0,>=2022.5.0->lightning<=2.2.5,>=2->terratorch==0.99.3) (3.10.5)\n",
      "Requirement already satisfied: graphql-core<3.3,>=3.1 in /home/romeokienzler/gitco/terratorch/.venv/lib64/python3.11/site-packages (from graphene<4->mlflow>=2.12.1->terratorch==0.99.3) (3.2.4)\n",
      "Requirement already satisfied: graphql-relay<3.3,>=3.1 in /home/romeokienzler/gitco/terratorch/.venv/lib64/python3.11/site-packages (from graphene<4->mlflow>=2.12.1->terratorch==0.99.3) (3.2.0)\n",
      "Requirement already satisfied: aniso8601<10,>=8 in /home/romeokienzler/gitco/terratorch/.venv/lib64/python3.11/site-packages (from graphene<4->mlflow>=2.12.1->terratorch==0.99.3) (9.0.1)\n",
      "Requirement already satisfied: omegaconf<2.4,>=2.2 in /home/romeokienzler/gitco/terratorch/.venv/lib64/python3.11/site-packages (from hydra-core>=1.0.0->lightly>=1.4.25->terratorch==0.99.3) (2.3.0)\n",
      "Requirement already satisfied: antlr4-python3-runtime==4.9.* in /home/romeokienzler/gitco/terratorch/.venv/lib64/python3.11/site-packages (from hydra-core>=1.0.0->lightly>=1.4.25->terratorch==0.99.3) (4.9.3)\n",
      "Requirement already satisfied: MarkupSafe>=2.0 in /home/romeokienzler/gitco/terratorch/.venv/lib64/python3.11/site-packages (from Jinja2<4,>=2.11->mlflow>=2.12.1->terratorch==0.99.3) (2.1.5)\n",
      "Requirement already satisfied: kornia-rs>=0.1.0 in /home/romeokienzler/gitco/terratorch/.venv/lib64/python3.11/site-packages (from kornia>=0.7.3->torchgeo>=0.6.0->terratorch==0.99.3) (0.1.5)\n",
      "Requirement already satisfied: bitsandbytes==0.41.0 in /home/romeokienzler/gitco/terratorch/.venv/lib64/python3.11/site-packages (from lightning[pytorch-extra]!=2.3.*,>=2->torchgeo>=0.6.0->terratorch==0.99.3) (0.41.0)\n",
      "Requirement already satisfied: jsonargparse<5.0,>=4.27.7 in /home/romeokienzler/gitco/terratorch/.venv/lib64/python3.11/site-packages (from jsonargparse[signatures]<5.0,>=4.27.7; extra == \"pytorch-extra\"->lightning[pytorch-extra]!=2.3.*,>=2->torchgeo>=0.6.0->terratorch==0.99.3) (4.32.1)\n",
      "Requirement already satisfied: rich<14.0,>=12.3.0 in /home/romeokienzler/gitco/terratorch/.venv/lib64/python3.11/site-packages (from lightning[pytorch-extra]!=2.3.*,>=2->torchgeo>=0.6.0->terratorch==0.99.3) (13.8.1)\n",
      "Requirement already satisfied: tensorboardX<3.0,>=2.2 in /home/romeokienzler/gitco/terratorch/.venv/lib64/python3.11/site-packages (from lightning[pytorch-extra]!=2.3.*,>=2->torchgeo>=0.6.0->terratorch==0.99.3) (2.6.2.2)\n",
      "Requirement already satisfied: contourpy>=1.0.1 in /home/romeokienzler/gitco/terratorch/.venv/lib64/python3.11/site-packages (from matplotlib<4->mlflow>=2.12.1->terratorch==0.99.3) (1.3.0)\n",
      "Requirement already satisfied: cycler>=0.10 in /home/romeokienzler/gitco/terratorch/.venv/lib64/python3.11/site-packages (from matplotlib<4->mlflow>=2.12.1->terratorch==0.99.3) (0.12.1)\n",
      "Requirement already satisfied: fonttools>=4.22.0 in /home/romeokienzler/gitco/terratorch/.venv/lib64/python3.11/site-packages (from matplotlib<4->mlflow>=2.12.1->terratorch==0.99.3) (4.53.1)\n",
      "Requirement already satisfied: kiwisolver>=1.3.1 in /home/romeokienzler/gitco/terratorch/.venv/lib64/python3.11/site-packages (from matplotlib<4->mlflow>=2.12.1->terratorch==0.99.3) (1.4.7)\n",
      "Requirement already satisfied: pyparsing>=2.3.1 in /home/romeokienzler/gitco/terratorch/.venv/lib64/python3.11/site-packages (from matplotlib<4->mlflow>=2.12.1->terratorch==0.99.3) (3.1.4)\n",
      "Requirement already satisfied: pytz>=2020.1 in /home/romeokienzler/gitco/terratorch/.venv/lib64/python3.11/site-packages (from pandas<2.0.0,>=1.5.3->geobench>=1.0.0->terratorch==0.99.3) (2024.2)\n",
      "Requirement already satisfied: annotated-types>=0.6.0 in /home/romeokienzler/gitco/terratorch/.venv/lib64/python3.11/site-packages (from pydantic>=2.7.0->albumentations<=1.4.10,>=1.3.1->terratorch==0.99.3) (0.7.0)\n",
      "Requirement already satisfied: pydantic-core==2.23.4 in /home/romeokienzler/gitco/terratorch/.venv/lib64/python3.11/site-packages (from pydantic>=2.7.0->albumentations<=1.4.10,>=1.3.1->terratorch==0.99.3) (2.23.4)\n",
      "Requirement already satisfied: charset-normalizer<4,>=2 in /home/romeokienzler/gitco/terratorch/.venv/lib64/python3.11/site-packages (from requests<3.0.0,>=2.26.0->geobench>=1.0.0->terratorch==0.99.3) (3.3.2)\n",
      "Requirement already satisfied: idna<4,>=2.5 in /home/romeokienzler/gitco/terratorch/.venv/lib64/python3.11/site-packages (from requests<3.0.0,>=2.26.0->geobench>=1.0.0->terratorch==0.99.3) (3.10)\n",
      "Requirement already satisfied: imageio>=2.33 in /home/romeokienzler/gitco/terratorch/.venv/lib64/python3.11/site-packages (from scikit-image>=0.21.0->albumentations<=1.4.10,>=1.3.1->terratorch==0.99.3) (2.35.1)\n",
      "Requirement already satisfied: tifffile>=2022.8.12 in /home/romeokienzler/gitco/terratorch/.venv/lib64/python3.11/site-packages (from scikit-image>=0.21.0->albumentations<=1.4.10,>=1.3.1->terratorch==0.99.3) (2024.9.20)\n",
      "Requirement already satisfied: lazy-loader>=0.4 in /home/romeokienzler/gitco/terratorch/.venv/lib64/python3.11/site-packages (from scikit-image>=0.21.0->albumentations<=1.4.10,>=1.3.1->terratorch==0.99.3) (0.4)\n",
      "Requirement already satisfied: joblib>=1.2.0 in /home/romeokienzler/gitco/terratorch/.venv/lib64/python3.11/site-packages (from scikit-learn>=1.3.2->albumentations<=1.4.10,>=1.3.1->terratorch==0.99.3) (1.4.2)\n",
      "Requirement already satisfied: threadpoolctl>=3.1.0 in /home/romeokienzler/gitco/terratorch/.venv/lib64/python3.11/site-packages (from scikit-learn>=1.3.2->albumentations<=1.4.10,>=1.3.1->terratorch==0.99.3) (3.5.0)\n",
      "Requirement already satisfied: pretrainedmodels==0.7.4 in /home/romeokienzler/gitco/terratorch/.venv/lib64/python3.11/site-packages (from segmentation-models-pytorch>=0.2->torchgeo>=0.6.0->terratorch==0.99.3) (0.7.4)\n",
      "Requirement already satisfied: efficientnet-pytorch==0.7.1 in /home/romeokienzler/gitco/terratorch/.venv/lib64/python3.11/site-packages (from segmentation-models-pytorch>=0.2->torchgeo>=0.6.0->terratorch==0.99.3) (0.7.1)\n",
      "Requirement already satisfied: safetensors in /home/romeokienzler/gitco/terratorch/.venv/lib64/python3.11/site-packages (from timm>=0.4.12->torchgeo>=0.6.0->terratorch==0.99.3) (0.4.5)\n",
      "Requirement already satisfied: munch in /home/romeokienzler/gitco/terratorch/.venv/lib64/python3.11/site-packages (from pretrainedmodels==0.7.4->segmentation-models-pytorch>=0.2->torchgeo>=0.6.0->terratorch==0.99.3) (4.0.0)\n",
      "Requirement already satisfied: greenlet!=0.4.17 in /home/romeokienzler/gitco/terratorch/.venv/lib64/python3.11/site-packages (from sqlalchemy<3,>=1.4.0->mlflow>=2.12.1->terratorch==0.99.3) (3.1.1)\n",
      "INFO: pip is looking at multiple versions of xarray to determine which version is compatible with other requirements. This could take a while.\n",
      "Collecting xarray>=2022.3.0 (from rioxarray>=0.15.0->terratorch==0.99.3)\n",
      "  Using cached xarray-2024.7.0-py3-none-any.whl.metadata (11 kB)\n",
      "  Using cached xarray-2024.6.0-py3-none-any.whl.metadata (11 kB)\n",
      "  Using cached xarray-2024.5.0-py3-none-any.whl.metadata (11 kB)\n",
      "  Using cached xarray-2024.3.0-py3-none-any.whl.metadata (11 kB)\n",
      "Requirement already satisfied: mpmath<1.4,>=1.1.0 in /home/romeokienzler/gitco/terratorch/.venv/lib64/python3.11/site-packages (from sympy->torch>=2.1.0->terratorch==0.99.3) (1.3.0)\n",
      "Requirement already satisfied: aiohappyeyeballs>=2.3.0 in /home/romeokienzler/gitco/terratorch/.venv/lib64/python3.11/site-packages (from aiohttp!=4.0.0a0,!=4.0.0a1->fsspec[http]<2025.0,>=2022.5.0->lightning<=2.2.5,>=2->terratorch==0.99.3) (2.4.0)\n",
      "Requirement already satisfied: aiosignal>=1.1.2 in /home/romeokienzler/gitco/terratorch/.venv/lib64/python3.11/site-packages (from aiohttp!=4.0.0a0,!=4.0.0a1->fsspec[http]<2025.0,>=2022.5.0->lightning<=2.2.5,>=2->terratorch==0.99.3) (1.3.1)\n",
      "Requirement already satisfied: frozenlist>=1.1.1 in /home/romeokienzler/gitco/terratorch/.venv/lib64/python3.11/site-packages (from aiohttp!=4.0.0a0,!=4.0.0a1->fsspec[http]<2025.0,>=2022.5.0->lightning<=2.2.5,>=2->terratorch==0.99.3) (1.4.1)\n",
      "Requirement already satisfied: multidict<7.0,>=4.5 in /home/romeokienzler/gitco/terratorch/.venv/lib64/python3.11/site-packages (from aiohttp!=4.0.0a0,!=4.0.0a1->fsspec[http]<2025.0,>=2022.5.0->lightning<=2.2.5,>=2->terratorch==0.99.3) (6.1.0)\n",
      "Requirement already satisfied: yarl<2.0,>=1.0 in /home/romeokienzler/gitco/terratorch/.venv/lib64/python3.11/site-packages (from aiohttp!=4.0.0a0,!=4.0.0a1->fsspec[http]<2025.0,>=2022.5.0->lightning<=2.2.5,>=2->terratorch==0.99.3) (1.11.1)\n",
      "Requirement already satisfied: google-auth~=2.0 in /home/romeokienzler/gitco/terratorch/.venv/lib64/python3.11/site-packages (from databricks-sdk<1,>=0.20.0->mlflow-skinny==2.16.2->mlflow>=2.12.1->terratorch==0.99.3) (2.35.0)\n",
      "Requirement already satisfied: gitdb<5,>=4.0.1 in /home/romeokienzler/gitco/terratorch/.venv/lib64/python3.11/site-packages (from gitpython<4,>=3.1.9->mlflow-skinny==2.16.2->mlflow>=2.12.1->terratorch==0.99.3) (4.0.11)\n",
      "Requirement already satisfied: zipp>=0.5 in /home/romeokienzler/gitco/terratorch/.venv/lib64/python3.11/site-packages (from importlib-metadata!=4.7.0,<9,>=3.7.0->mlflow-skinny==2.16.2->mlflow>=2.12.1->terratorch==0.99.3) (3.20.2)\n",
      "Requirement already satisfied: docstring-parser>=0.15 in /home/romeokienzler/gitco/terratorch/.venv/lib64/python3.11/site-packages (from jsonargparse[signatures]<5.0,>=4.27.7; extra == \"pytorch-extra\"->lightning[pytorch-extra]!=2.3.*,>=2->torchgeo>=0.6.0->terratorch==0.99.3) (0.16)\n",
      "Requirement already satisfied: typeshed-client>=2.1.0 in /home/romeokienzler/gitco/terratorch/.venv/lib64/python3.11/site-packages (from jsonargparse[signatures]<5.0,>=4.27.7; extra == \"pytorch-extra\"->lightning[pytorch-extra]!=2.3.*,>=2->torchgeo>=0.6.0->terratorch==0.99.3) (2.7.0)\n",
      "Requirement already satisfied: deprecated>=1.2.6 in /home/romeokienzler/gitco/terratorch/.venv/lib64/python3.11/site-packages (from opentelemetry-api<3,>=1.9.0->mlflow-skinny==2.16.2->mlflow>=2.12.1->terratorch==0.99.3) (1.2.14)\n",
      "Requirement already satisfied: opentelemetry-semantic-conventions==0.48b0 in /home/romeokienzler/gitco/terratorch/.venv/lib64/python3.11/site-packages (from opentelemetry-sdk<3,>=1.9.0->mlflow-skinny==2.16.2->mlflow>=2.12.1->terratorch==0.99.3) (0.48b0)\n",
      "Requirement already satisfied: markdown-it-py>=2.2.0 in /home/romeokienzler/gitco/terratorch/.venv/lib64/python3.11/site-packages (from rich<14.0,>=12.3.0->lightning[pytorch-extra]!=2.3.*,>=2->torchgeo>=0.6.0->terratorch==0.99.3) (3.0.0)\n",
      "Requirement already satisfied: pygments<3.0.0,>=2.13.0 in /home/romeokienzler/gitco/terratorch/.venv/lib64/python3.11/site-packages (from rich<14.0,>=12.3.0->lightning[pytorch-extra]!=2.3.*,>=2->torchgeo>=0.6.0->terratorch==0.99.3) (2.18.0)\n",
      "Requirement already satisfied: wrapt<2,>=1.10 in /home/romeokienzler/gitco/terratorch/.venv/lib64/python3.11/site-packages (from deprecated>=1.2.6->opentelemetry-api<3,>=1.9.0->mlflow-skinny==2.16.2->mlflow>=2.12.1->terratorch==0.99.3) (1.16.0)\n",
      "Requirement already satisfied: smmap<6,>=3.0.1 in /home/romeokienzler/gitco/terratorch/.venv/lib64/python3.11/site-packages (from gitdb<5,>=4.0.1->gitpython<4,>=3.1.9->mlflow-skinny==2.16.2->mlflow>=2.12.1->terratorch==0.99.3) (5.0.1)\n",
      "Requirement already satisfied: pyasn1-modules>=0.2.1 in /home/romeokienzler/gitco/terratorch/.venv/lib64/python3.11/site-packages (from google-auth~=2.0->databricks-sdk<1,>=0.20.0->mlflow-skinny==2.16.2->mlflow>=2.12.1->terratorch==0.99.3) (0.4.1)\n",
      "Requirement already satisfied: rsa<5,>=3.1.4 in /home/romeokienzler/gitco/terratorch/.venv/lib64/python3.11/site-packages (from google-auth~=2.0->databricks-sdk<1,>=0.20.0->mlflow-skinny==2.16.2->mlflow>=2.12.1->terratorch==0.99.3) (4.9)\n",
      "Requirement already satisfied: mdurl~=0.1 in /home/romeokienzler/gitco/terratorch/.venv/lib64/python3.11/site-packages (from markdown-it-py>=2.2.0->rich<14.0,>=12.3.0->lightning[pytorch-extra]!=2.3.*,>=2->torchgeo>=0.6.0->terratorch==0.99.3) (0.1.2)\n",
      "Requirement already satisfied: importlib-resources>=1.4.0 in /home/romeokienzler/gitco/terratorch/.venv/lib64/python3.11/site-packages (from typeshed-client>=2.1.0->jsonargparse[signatures]<5.0,>=4.27.7; extra == \"pytorch-extra\"->lightning[pytorch-extra]!=2.3.*,>=2->torchgeo>=0.6.0->terratorch==0.99.3) (6.4.5)\n",
      "Requirement already satisfied: pyasn1<0.7.0,>=0.4.6 in /home/romeokienzler/gitco/terratorch/.venv/lib64/python3.11/site-packages (from pyasn1-modules>=0.2.1->google-auth~=2.0->databricks-sdk<1,>=0.20.0->mlflow-skinny==2.16.2->mlflow>=2.12.1->terratorch==0.99.3) (0.6.1)\n",
      "Using cached albumentations-1.4.10-py3-none-any.whl (161 kB)\n",
      "Using cached pandas-1.5.3-cp311-cp311-manylinux_2_17_x86_64.manylinux2014_x86_64.whl (12.0 MB)\n",
      "Using cached xarray-2024.3.0-py3-none-any.whl (1.1 MB)\n",
      "Building wheels for collected packages: terratorch\n",
      "  Building wheel for terratorch (pyproject.toml) ... \u001b[?25ldone\n",
      "\u001b[?25h  Created wheel for terratorch: filename=terratorch-0.99.3-py3-none-any.whl size=157186 sha256=572b69292700f322f873ad3acc1ba7b91ab034162cb713bf137b4ddc0da91306\n",
      "  Stored in directory: /tmp/pip-ephem-wheel-cache-7m_ss48x/wheels/83/b0/cb/1e8088ab77c4f3d426b57d62fdc73d9714cc78ba01ef4230e0\n",
      "Successfully built terratorch\n",
      "Installing collected packages: pandas, xarray, albumentations, terratorch\n",
      "  Attempting uninstall: pandas\n",
      "    Found existing installation: pandas 2.2.3\n",
      "    Uninstalling pandas-2.2.3:\n",
      "      Successfully uninstalled pandas-2.2.3\n",
      "  Attempting uninstall: xarray\n",
      "    Found existing installation: xarray 2024.9.0\n",
      "    Uninstalling xarray-2024.9.0:\n",
      "      Successfully uninstalled xarray-2024.9.0\n",
      "  Attempting uninstall: albumentations\n",
      "    Found existing installation: albumentations 1.4.16\n",
      "    Uninstalling albumentations-1.4.16:\n",
      "      Successfully uninstalled albumentations-1.4.16\n",
      "  Attempting uninstall: terratorch\n",
      "    Found existing installation: terratorch 0.99.3\n",
      "    Uninstalling terratorch-0.99.3:\n",
      "      Successfully uninstalled terratorch-0.99.3\n",
      "\u001b[31mERROR: pip's dependency resolver does not currently take into account all the packages that are installed. This behaviour is the source of the following dependency conflicts.\n",
      "prithviwxc 0.1.0 requires pandas~=2.2, but you have pandas 1.5.3 which is incompatible.\n",
      "granitewxc 0.1.0 requires xarray>=2024.9.0, but you have xarray 2024.3.0 which is incompatible.\u001b[0m\u001b[31m\n",
      "\u001b[0mSuccessfully installed albumentations-1.4.10 pandas-1.5.3 terratorch-0.99.3 xarray-2024.3.0\n"
     ]
    }
   ],
   "source": [
    "!pip install -U ../../."
   ]
  },
  {
   "cell_type": "code",
   "execution_count": null,
   "metadata": {},
   "outputs": [],
   "source": [
    "!pip install -U albumentations"
   ]
  },
  {
   "cell_type": "code",
   "execution_count": null,
   "metadata": {},
   "outputs": [],
   "source": [
    "!pip install git+https://github.com/NASA-IMPACT/Prithvi-WxC.git"
   ]
  },
  {
   "cell_type": "code",
   "execution_count": null,
   "metadata": {},
   "outputs": [],
   "source": [
    "!pip install git+https://github.com/IBM/granite-wxc.git"
   ]
  },
  {
   "cell_type": "code",
   "execution_count": 11,
   "metadata": {},
   "outputs": [
    {
     "name": "stdout",
     "output_type": "stream",
     "text": [
      "Requirement already satisfied: huggingface_hub in /home/romeokienzler/gitco/terratorch/.venv/lib64/python3.11/site-packages (0.19.4)\n",
      "Requirement already satisfied: filelock in /home/romeokienzler/gitco/terratorch/.venv/lib64/python3.11/site-packages (from huggingface_hub) (3.16.1)\n",
      "Requirement already satisfied: fsspec>=2023.5.0 in /home/romeokienzler/gitco/terratorch/.venv/lib64/python3.11/site-packages (from huggingface_hub) (2024.9.0)\n",
      "Requirement already satisfied: requests in /home/romeokienzler/gitco/terratorch/.venv/lib64/python3.11/site-packages (from huggingface_hub) (2.32.3)\n",
      "Requirement already satisfied: tqdm>=4.42.1 in /home/romeokienzler/gitco/terratorch/.venv/lib64/python3.11/site-packages (from huggingface_hub) (4.66.5)\n",
      "Requirement already satisfied: pyyaml>=5.1 in /home/romeokienzler/gitco/terratorch/.venv/lib64/python3.11/site-packages (from huggingface_hub) (6.0.2)\n",
      "Requirement already satisfied: typing-extensions>=3.7.4.3 in /home/romeokienzler/gitco/terratorch/.venv/lib64/python3.11/site-packages (from huggingface_hub) (4.12.2)\n",
      "Requirement already satisfied: packaging>=20.9 in /home/romeokienzler/gitco/terratorch/.venv/lib64/python3.11/site-packages (from huggingface_hub) (24.1)\n",
      "Requirement already satisfied: charset-normalizer<4,>=2 in /home/romeokienzler/gitco/terratorch/.venv/lib64/python3.11/site-packages (from requests->huggingface_hub) (3.3.2)\n",
      "Requirement already satisfied: idna<4,>=2.5 in /home/romeokienzler/gitco/terratorch/.venv/lib64/python3.11/site-packages (from requests->huggingface_hub) (3.10)\n",
      "Requirement already satisfied: urllib3<3,>=1.21.1 in /home/romeokienzler/gitco/terratorch/.venv/lib64/python3.11/site-packages (from requests->huggingface_hub) (2.2.3)\n",
      "Requirement already satisfied: certifi>=2017.4.17 in /home/romeokienzler/gitco/terratorch/.venv/lib64/python3.11/site-packages (from requests->huggingface_hub) (2024.8.30)\n"
     ]
    }
   ],
   "source": [
    "!pip install huggingface_hub"
   ]
  },
  {
   "cell_type": "code",
   "execution_count": 13,
   "metadata": {},
   "outputs": [],
   "source": [
    "import terratorch # this import is needed to initialize TT's factories\n",
    "from lightning.pytorch import Trainer\n",
    "import os\n",
    "from granitewxc.utils.config import get_config\n",
    "import torch\n",
    "from terratorch.tasks.wxc_downscaling_task import WxCDownscalingTask\n",
    "from terratorch.datamodules.merra2_downscale import Merra2DownscaleNonGeoDataModule\n",
    "from granitewxc.utils.data import _get_transforms\n",
    "from huggingface_hub import hf_hub_download, snapshot_download"
   ]
  },
  {
   "cell_type": "markdown",
   "metadata": {},
   "source": [
    "\n",
    "## Load Config\n",
    "\n",
    "We provide a configuration file that is used to configure data variables and model parameters. For inference most of these configurations are used as is. This includes the variables that the model is trained on, the variables that we downscale, the number of input timesteps, the amount of downscaling, the embedding dimensions for the model. When necessary, we will show which configurations need to be specified or changed outside of what is set in this file already.\n"
   ]
  },
  {
   "cell_type": "code",
   "execution_count": 2,
   "metadata": {},
   "outputs": [],
   "source": [
    "config = get_config('../confs/granite-wxc-merra2-downscale-config.yaml')\n",
    "config.download_path = './'\n",
    "\n",
    "config.data.data_path_surface = os.path.join(config.download_path,'merra-2')\n",
    "config.data.data_path_vertical = os.path.join(config.download_path, 'merra-2')\n",
    "config.data.climatology_path_surface = os.path.join(config.download_path,'climatology')\n",
    "config.data.climatology_path_vertical = os.path.join(config.download_path,'climatology')\n",
    "\n",
    "config.model.input_scalers_surface_path = os.path.join(config.download_path,'climatology/musigma_surface.nc')\n",
    "config.model.input_scalers_vertical_path = os.path.join(config.download_path,'climatology/musigma_vertical.nc')\n",
    "config.model.output_scalers_surface_path = os.path.join(config.download_path,'climatology/anomaly_variance_surface.nc')\n",
    "config.model.output_scalers_vertical_path = os.path.join(config.download_path,'climatology/anomaly_variance_vertical.nc')\n"
   ]
  },
  {
   "cell_type": "markdown",
   "metadata": {},
   "source": [
    "\n",
    "## Download Model and Sample Data\n",
    "\n",
    "We provide sample data from MERRA-2 dataset for a single day (2020 January 01), and weights for a finetuned downscaling model that we use in this notebook. These will be downloaded when you run the cell/s below\n",
    "\n",
    "Before running the download set config.download_path to the directory where you want the model and sample data to be downloaded\n",
    "\n",
    "Note: With config.download_path = './' the files are downloaded in the current working directory\n"
   ]
  },
  {
   "cell_type": "code",
   "execution_count": 15,
   "metadata": {},
   "outputs": [
    {
     "name": "stderr",
     "output_type": "stream",
     "text": [
      "Fetching 1 files: 100%|██████████| 1/1 [00:00<00:00,  2.36it/s]\n",
      "Fetching 1 files: 100%|██████████| 1/1 [00:00<00:00,  2.75it/s]\n"
     ]
    },
    {
     "data": {
      "text/plain": [
       "'/home/romeokienzler/gitco/terratorch/examples/notebooks'"
      ]
     },
     "execution_count": 15,
     "metadata": {},
     "output_type": "execute_result"
    }
   ],
   "source": [
    "snapshot_download(\n",
    "    repo_id=\"Prithvi-WxC/prithvi.wxc.2300m.v1\",\n",
    "    allow_patterns=\"merra-2/MERRA2_sfc_2020010[1].nc\",\n",
    "    local_dir=\".\",\n",
    ")\n",
    "\n",
    "snapshot_download(\n",
    "    repo_id=\"Prithvi-WxC/prithvi.wxc.2300m.v1\",\n",
    "    allow_patterns=\"merra-2/MERRA_pres_2020010[1].nc\",\n",
    "    local_dir=\".\",\n",
    ")"
   ]
  },
  {
   "cell_type": "markdown",
   "metadata": {},
   "source": [
    "\n",
    "## Climatology\n",
    "\n",
    "The PrithviWxC model was trained to calculate the output by producing a perturbation to the climatology at the target time. This mode of operation is set via the residual=climate option. This was chosen as climatology is typically a strong prior for long-range prediction. When using the residual=climate option, we have to provide the dataloader with the path of the climatology data.\n"
   ]
  },
  {
   "cell_type": "code",
   "execution_count": 18,
   "metadata": {},
   "outputs": [
    {
     "name": "stderr",
     "output_type": "stream",
     "text": [
      "Fetching 8 files: 100%|██████████| 8/8 [00:00<00:00, 17.87it/s]\n",
      "Fetching 8 files: 100%|██████████| 8/8 [00:00<00:00, 21.16it/s]\n",
      "anomaly_variance_surface.nc: 100%|██████████| 11.5k/11.5k [00:00<00:00, 15.0MB/s]\n",
      "anomaly_variance_vertical.nc: 100%|██████████| 18.6k/18.6k [00:00<00:00, 81.1MB/s]\n",
      "musigma_surface.nc: 100%|██████████| 24.7k/24.7k [00:00<00:00, 6.49MB/s]\n",
      "musigma_vertical.nc: 100%|██████████| 25.0k/25.0k [00:00<00:00, 1.44MB/s]\n"
     ]
    },
    {
     "data": {
      "text/plain": [
       "'./climatology/musigma_vertical.nc'"
      ]
     },
     "execution_count": 18,
     "metadata": {},
     "output_type": "execute_result"
    }
   ],
   "source": [
    "snapshot_download(\n",
    "    repo_id=\"Prithvi-WxC/prithvi.wxc.2300m.v1\",\n",
    "    allow_patterns=\"climatology/climate_surface_doy00[1]*.nc\",\n",
    "    local_dir=\".\",\n",
    ")\n",
    "\n",
    "snapshot_download(\n",
    "    repo_id=\"Prithvi-WxC/prithvi.wxc.2300m.v1\",\n",
    "    allow_patterns=\"climatology/climate_vertical_doy00[1]*.nc\",\n",
    "    local_dir=\".\",\n",
    ")\n",
    "\n",
    "hf_hub_download(\n",
    "    repo_id=\"Prithvi-WxC/prithvi.wxc.2300m.v1\",\n",
    "    filename=f\"climatology/anomaly_variance_surface.nc\",\n",
    "    local_dir=\".\",\n",
    ")\n",
    "\n",
    "hf_hub_download(\n",
    "    repo_id=\"Prithvi-WxC/prithvi.wxc.2300m.v1\",\n",
    "    filename=f\"climatology/anomaly_variance_vertical.nc\",\n",
    "    local_dir=\".\",\n",
    ")\n",
    "\n",
    "hf_hub_download(\n",
    "    repo_id=\"Prithvi-WxC/prithvi.wxc.2300m.v1\",\n",
    "    filename=f\"climatology/musigma_surface.nc\",\n",
    "    local_dir=\".\",\n",
    ")\n",
    "\n",
    "hf_hub_download(\n",
    "    repo_id=\"Prithvi-WxC/prithvi.wxc.2300m.v1\",\n",
    "    filename=f\"climatology/musigma_vertical.nc\",\n",
    "    local_dir=\".\",\n",
    ")"
   ]
  },
  {
   "cell_type": "code",
   "execution_count": null,
   "metadata": {},
   "outputs": [],
   "source": [
    "task = WxCDownscalingTask(model_args = {}, model_factory = 'WxCModelFactory', model_config=config, optimizer='AdamW', optimizer_hparams={'weight_decay': 0.05})"
   ]
  },
  {
   "cell_type": "code",
   "execution_count": 4,
   "metadata": {},
   "outputs": [],
   "source": [
    "datamodule = Merra2DownscaleNonGeoDataModule(\n",
    "            data_path_surface = config.data.data_path_surface,\n",
    "            data_path_vertical = config.data.data_path_vertical,\n",
    "            climatology_path_surface = config.data.climatology_path_surface,\n",
    "            climatology_path_vertical = config.data.climatology_path_vertical,\n",
    "            input_surface_vars = config.data.input_surface_vars,\n",
    "            input_static_surface_vars = config.data.input_static_surface_vars,\n",
    "            input_vertical_vars = config.data.input_vertical_vars,\n",
    "            input_levels = config.data.input_levels,\n",
    "            n_input_timestamps = config.data.n_input_timestamps,\n",
    "            output_vars=config.data.output_vars,\n",
    "            time_range=('2020-01-01', '2020-01-02'),\n",
    "            transforms=_get_transforms(config),)\n",
    "datamodule.setup('predict')"
   ]
  },
  {
   "cell_type": "code",
   "execution_count": null,
   "metadata": {},
   "outputs": [],
   "source": [
    "if torch.cuda.is_available():\n",
    "    accelerator = 'gpu'\n",
    "else:\n",
    "    accelerator = 'cpu'\n",
    "\n",
    "trainer = Trainer(\n",
    "    accelerator=accelerator,\n",
    "    max_epochs=1,\n",
    ")\n",
    "\n",
    "results = trainer.predict(model=task, datamodule=datamodule, return_predictions=True)"
   ]
  },
  {
   "cell_type": "code",
   "execution_count": null,
   "metadata": {},
   "outputs": [],
   "source": [
    "import matplotlib.pyplot as plt\n",
    "import numpy as np\n",
    "\n",
    "slice = results[0][0][0][0]\n",
    "slice = torch.flip(slice, dims=[0])\n",
    "\n",
    "# Plot the slice as an image\n",
    "plt.imshow(slice.numpy())\n",
    "plt.title(f\"Slice \")\n",
    "plt.show()"
   ]
  }
 ],
 "metadata": {
  "kernelspec": {
   "display_name": "Python 3 (ipykernel)",
   "language": "python",
   "name": "python3"
  },
  "language_info": {
   "codemirror_mode": {
    "name": "ipython",
    "version": 3
   },
   "file_extension": ".py",
   "mimetype": "text/x-python",
   "name": "python",
   "nbconvert_exporter": "python",
   "pygments_lexer": "ipython3",
   "version": "3.11.10"
  }
 },
 "nbformat": 4,
 "nbformat_minor": 4
}
