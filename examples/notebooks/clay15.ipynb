{
 "cells": [
  {
   "cell_type": "code",
   "execution_count": 26,
   "metadata": {},
   "outputs": [],
   "source": [
    "class AlbumentationsWrapper:\n",
    "    def __init__(self, albumentations_transform, static_items):\n",
    "        self.transform = albumentations_transform\n",
    "        self.static_items = self._init_static_items(static_items)\n",
    "\n",
    "    def _init_static_items(self, items):\n",
    "        out = {}\n",
    "        for k, v in items.items():\n",
    "            if isinstance(v, dict) and \"init\" in v:\n",
    "                init_type = v[\"init\"]\n",
    "                shape = v[\"shape\"]\n",
    "                if init_type == \"zeros\":\n",
    "                    out[k] = torch.zeros(*shape)\n",
    "                elif init_type == \"randn\":\n",
    "                    out[k] = torch.randn(*shape)\n",
    "                else:\n",
    "                    raise ValueError(f\"Unsupported init type: {init_type}\")\n",
    "            else:\n",
    "                out[k] = v\n",
    "        return out\n",
    "\n",
    "    def __call__(self, **kwargs):\n",
    "        result = self.transform(**kwargs)\n",
    "        return {**result, **self.static_items}\n",
    "\n",
    "\n",
    "from albumentations import Compose, Resize\n",
    "import torch\n",
    "from terratorch.transforms import RemapKeys\n",
    "\n",
    "transform = AlbumentationsWrapper(\n",
    "    albumentations_transform=Compose([\n",
    "        Resize(64, 64),\n",
    "        RemapKeys(key_map={\n",
    "            'image': 'pixels'\n",
    "        }),\n",
    "    ]),\n",
    "    static_items={\n",
    "        'time': {'init': 'zeros', 'shape': [64, 4]},\n",
    "        'platform': [\"sentinel-2-l2a\"],\n",
    "        'latlon': {'init': 'zeros', 'shape': [64, 4]},\n",
    "        'waves': {'init': 'zeros', 'shape': [4]},\n",
    "        'gsd': 10\n",
    "    }\n",
    ")"
   ]
  },
  {
   "cell_type": "code",
   "execution_count": 27,
   "metadata": {},
   "outputs": [],
   "source": [
    "import albumentations as A\n",
    "from terratorch.transforms import RemapKeys, AddStaticKeys\n",
    "from terratorch.datamodules.torchgeo_data_module import TorchNonGeoDataModule\n",
    "import torchgeo \n",
    "\n",
    "\n",
    "#       init_args:\n",
    "#         key_map:\n",
    "#           image: pixels\n",
    "dm = TorchNonGeoDataModule(\n",
    "    cls = torchgeo.datamodules.EuroSATDataModule,\n",
    "    batch_size = 64,\n",
    "    num_workers = 1,\n",
    "    transforms= [transform],\n",
    "    **kwargs_for_wrapped_datamodule,\n",
    ")\n"
   ]
  },
  {
   "cell_type": "code",
   "execution_count": 28,
   "metadata": {},
   "outputs": [],
   "source": [
    "dm.setup(stage='fit')"
   ]
  },
  {
   "cell_type": "code",
   "execution_count": 29,
   "metadata": {},
   "outputs": [
    {
     "data": {
      "text/plain": [
       "dict_keys(['pixels', 'label', 'time', 'platform', 'latlon', 'waves', 'gsd'])"
      ]
     },
     "execution_count": 29,
     "metadata": {},
     "output_type": "execute_result"
    }
   ],
   "source": [
    "next(iter(dm.train_dataloader())).keys()"
   ]
  }
 ],
 "metadata": {
  "kernelspec": {
   "display_name": ".venv",
   "language": "python",
   "name": "python3"
  },
  "language_info": {
   "codemirror_mode": {
    "name": "ipython",
    "version": 3
   },
   "file_extension": ".py",
   "mimetype": "text/x-python",
   "name": "python",
   "nbconvert_exporter": "python",
   "pygments_lexer": "ipython3",
   "version": "3.12.9"
  }
 },
 "nbformat": 4,
 "nbformat_minor": 2
}
